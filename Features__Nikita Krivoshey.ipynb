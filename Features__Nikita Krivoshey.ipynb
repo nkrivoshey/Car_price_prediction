{
 "cells": [
  {
   "cell_type": "code",
   "execution_count": 542,
   "id": "3505cb52",
   "metadata": {},
   "outputs": [],
   "source": [
    "import numpy as np\n",
    "import pandas as pd\n",
    "import matplotlib.pyplot as plt\n",
    "import seaborn as sns\n",
    "import matplotlib.pyplot as plt\n",
    "#pip install category_encoders\n",
    "import category_encoders as ce\n",
    "\n",
    "from sklearn.model_selection import train_test_split , GridSearchCV , cross_val_score , RandomizedSearchCV,KFold,RepeatedKFold\n",
    "\n",
    "from sklearn.preprocessing import PolynomialFeatures\n",
    "from sklearn.preprocessing import OneHotEncoder , LabelEncoder, OrdinalEncoder\n",
    "from sklearn.compose import ColumnTransformer\n",
    "from sklearn.pipeline import Pipeline, make_pipeline\n",
    "from sklearn.metrics import get_scorer\n",
    "from sklearn.model_selection import cross_validate\n",
    "from sklearn.pipeline import Pipeline, make_pipeline\n",
    "from sklearn.model_selection import learning_curve\n",
    "from sklearn.ensemble import RandomForestRegressor\n",
    "from sklearn.preprocessing import StandardScaler, MinMaxScaler\n",
    "from sklearn.ensemble import GradientBoostingRegressor\n",
    "from sklearn.metrics import r2_score,mean_squared_error,mean_absolute_percentage_error\n",
    "from sklearn.decomposition import PCA\n",
    "from sklearn.manifold import TSNE\n",
    "import shap\n",
    "from sklearn.feature_selection import SelectFromModel\n",
    "from sklearn.feature_selection import SequentialFeatureSelector\n",
    "from sklearn.feature_selection  import RFE\n",
    "from sklearn.preprocessing import RobustScaler\n",
    "from sklearn.preprocessing import PowerTransformer\n",
    "\n",
    "\n",
    "from matplotlib.colors import ListedColormap\n",
    "from sklearn.model_selection import cross_val_score\n",
    "from sklearn import svm \n",
    "from sklearn.svm import LinearSVC\n",
    "from itertools import product\n",
    "from sklearn.inspection import DecisionBoundaryDisplay\n",
    "from sklearn.inspection import permutation_importance\n",
    "from IPython.display import display\n",
    "from sklearn.metrics import confusion_matrix\n",
    "from sklearn.metrics import ConfusionMatrixDisplay\n",
    "from sklearn.metrics import classification_report, RocCurveDisplay, DetCurveDisplay,PrecisionRecallDisplay\n",
    "from sklearn.metrics import roc_auc_score\n",
    "import math"
   ]
  },
  {
   "cell_type": "code",
   "execution_count": 551,
   "id": "20529a04",
   "metadata": {},
   "outputs": [
    {
     "data": {
      "text/html": [
       "<div>\n",
       "<style scoped>\n",
       "    .dataframe tbody tr th:only-of-type {\n",
       "        vertical-align: middle;\n",
       "    }\n",
       "\n",
       "    .dataframe tbody tr th {\n",
       "        vertical-align: top;\n",
       "    }\n",
       "\n",
       "    .dataframe thead th {\n",
       "        text-align: right;\n",
       "    }\n",
       "</style>\n",
       "<table border=\"1\" class=\"dataframe\">\n",
       "  <thead>\n",
       "    <tr style=\"text-align: right;\">\n",
       "      <th></th>\n",
       "      <th>Brand</th>\n",
       "      <th>Model</th>\n",
       "      <th>Year_of_production</th>\n",
       "      <th>Type</th>\n",
       "      <th>Leather_interior</th>\n",
       "      <th>Fuel_type</th>\n",
       "      <th>Engine_volume</th>\n",
       "      <th>Mileage</th>\n",
       "      <th>Cylinders</th>\n",
       "      <th>Gear_box</th>\n",
       "      <th>Drive_wheels</th>\n",
       "      <th>Doors</th>\n",
       "      <th>Color</th>\n",
       "      <th>Airbags</th>\n",
       "      <th>Tax</th>\n",
       "      <th>Price</th>\n",
       "    </tr>\n",
       "  </thead>\n",
       "  <tbody>\n",
       "    <tr>\n",
       "      <th>0</th>\n",
       "      <td>OPEL</td>\n",
       "      <td>Combo</td>\n",
       "      <td>2003</td>\n",
       "      <td>Goods wagon</td>\n",
       "      <td>No</td>\n",
       "      <td>Diesel</td>\n",
       "      <td>1.7</td>\n",
       "      <td>152000 km</td>\n",
       "      <td>4.0</td>\n",
       "      <td>Manual</td>\n",
       "      <td>Front</td>\n",
       "      <td>04-May</td>\n",
       "      <td>Grey</td>\n",
       "      <td>2</td>\n",
       "      <td>1438</td>\n",
       "      <td>9408</td>\n",
       "    </tr>\n",
       "    <tr>\n",
       "      <th>1</th>\n",
       "      <td>MERCEDES-BENZ</td>\n",
       "      <td>Vito</td>\n",
       "      <td>2008</td>\n",
       "      <td>Minivan</td>\n",
       "      <td>No</td>\n",
       "      <td>Diesel</td>\n",
       "      <td>2.2 Turbo</td>\n",
       "      <td>198700 km</td>\n",
       "      <td>4.0</td>\n",
       "      <td>Manual</td>\n",
       "      <td>Rear</td>\n",
       "      <td>02-Mar</td>\n",
       "      <td>White</td>\n",
       "      <td>6</td>\n",
       "      <td>1195</td>\n",
       "      <td>17000</td>\n",
       "    </tr>\n",
       "    <tr>\n",
       "      <th>2</th>\n",
       "      <td>TOYOTA</td>\n",
       "      <td>CHR</td>\n",
       "      <td>2018</td>\n",
       "      <td>Jeep</td>\n",
       "      <td>No</td>\n",
       "      <td>Petrol</td>\n",
       "      <td>2</td>\n",
       "      <td>37214 km</td>\n",
       "      <td>4.0</td>\n",
       "      <td>Automatic</td>\n",
       "      <td>Front</td>\n",
       "      <td>04-May</td>\n",
       "      <td>Grey</td>\n",
       "      <td>10</td>\n",
       "      <td>1079</td>\n",
       "      <td>36065</td>\n",
       "    </tr>\n",
       "    <tr>\n",
       "      <th>3</th>\n",
       "      <td>HYUNDAI</td>\n",
       "      <td>Grandeur</td>\n",
       "      <td>2012</td>\n",
       "      <td>Sedan</td>\n",
       "      <td>Yes</td>\n",
       "      <td>Petrol</td>\n",
       "      <td>3</td>\n",
       "      <td>137235 km</td>\n",
       "      <td>4.0</td>\n",
       "      <td>Automatic</td>\n",
       "      <td>Front</td>\n",
       "      <td>04-May</td>\n",
       "      <td>Silver</td>\n",
       "      <td>4</td>\n",
       "      <td>919</td>\n",
       "      <td>15524</td>\n",
       "    </tr>\n",
       "    <tr>\n",
       "      <th>4</th>\n",
       "      <td>MERCEDES-BENZ</td>\n",
       "      <td>ML 350</td>\n",
       "      <td>2015</td>\n",
       "      <td>Jeep</td>\n",
       "      <td>Yes</td>\n",
       "      <td>Diesel</td>\n",
       "      <td>3.5</td>\n",
       "      <td>79080 km</td>\n",
       "      <td>6.0</td>\n",
       "      <td>Automatic</td>\n",
       "      <td>4x4</td>\n",
       "      <td>04-May</td>\n",
       "      <td>Grey</td>\n",
       "      <td>12</td>\n",
       "      <td>1273</td>\n",
       "      <td>22894</td>\n",
       "    </tr>\n",
       "  </tbody>\n",
       "</table>\n",
       "</div>"
      ],
      "text/plain": [
       "           Brand     Model  Year_of_production         Type Leather_interior  \\\n",
       "0           OPEL     Combo                2003  Goods wagon               No   \n",
       "1  MERCEDES-BENZ      Vito                2008      Minivan               No   \n",
       "2         TOYOTA       CHR                2018         Jeep               No   \n",
       "3        HYUNDAI  Grandeur                2012        Sedan              Yes   \n",
       "4  MERCEDES-BENZ    ML 350                2015         Jeep              Yes   \n",
       "\n",
       "  Fuel_type Engine_volume    Mileage  Cylinders   Gear_box Drive_wheels  \\\n",
       "0    Diesel           1.7  152000 km        4.0     Manual        Front   \n",
       "1    Diesel     2.2 Turbo  198700 km        4.0     Manual         Rear   \n",
       "2    Petrol             2   37214 km        4.0  Automatic        Front   \n",
       "3    Petrol             3  137235 km        4.0  Automatic        Front   \n",
       "4    Diesel           3.5   79080 km        6.0  Automatic          4x4   \n",
       "\n",
       "    Doors   Color  Airbags   Tax  Price  \n",
       "0  04-May    Grey        2  1438   9408  \n",
       "1  02-Mar   White        6  1195  17000  \n",
       "2  04-May    Grey       10  1079  36065  \n",
       "3  04-May  Silver        4   919  15524  \n",
       "4  04-May    Grey       12  1273  22894  "
      ]
     },
     "execution_count": 551,
     "metadata": {},
     "output_type": "execute_result"
    }
   ],
   "source": [
    "df = pd.read_csv('train.csv')\n",
    "# удалим пока строку,которая нам точно будет не нужна - это ID,модель нужна, чтобы выбросить дубликаты и потом можно тоже убрать\n",
    "df = df.drop(columns=['ID'])\n",
    "df.head()"
   ]
  },
  {
   "cell_type": "code",
   "execution_count": 434,
   "id": "ee9e73f6",
   "metadata": {},
   "outputs": [
    {
     "data": {
      "text/html": [
       "<div>\n",
       "<style scoped>\n",
       "    .dataframe tbody tr th:only-of-type {\n",
       "        vertical-align: middle;\n",
       "    }\n",
       "\n",
       "    .dataframe tbody tr th {\n",
       "        vertical-align: top;\n",
       "    }\n",
       "\n",
       "    .dataframe thead th {\n",
       "        text-align: right;\n",
       "    }\n",
       "</style>\n",
       "<table border=\"1\" class=\"dataframe\">\n",
       "  <thead>\n",
       "    <tr style=\"text-align: right;\">\n",
       "      <th></th>\n",
       "      <th>Year_of_production</th>\n",
       "      <th>Cylinders</th>\n",
       "      <th>Airbags</th>\n",
       "      <th>Tax</th>\n",
       "      <th>Price</th>\n",
       "    </tr>\n",
       "  </thead>\n",
       "  <tbody>\n",
       "    <tr>\n",
       "      <th>Year_of_production</th>\n",
       "      <td>NaN</td>\n",
       "      <td>NaN</td>\n",
       "      <td>NaN</td>\n",
       "      <td>NaN</td>\n",
       "      <td>NaN</td>\n",
       "    </tr>\n",
       "    <tr>\n",
       "      <th>Cylinders</th>\n",
       "      <td>-0.107356</td>\n",
       "      <td>NaN</td>\n",
       "      <td>NaN</td>\n",
       "      <td>NaN</td>\n",
       "      <td>NaN</td>\n",
       "    </tr>\n",
       "    <tr>\n",
       "      <th>Airbags</th>\n",
       "      <td>0.052521</td>\n",
       "      <td>0.156152</td>\n",
       "      <td>NaN</td>\n",
       "      <td>NaN</td>\n",
       "      <td>NaN</td>\n",
       "    </tr>\n",
       "    <tr>\n",
       "      <th>Tax</th>\n",
       "      <td>-0.186570</td>\n",
       "      <td>0.598225</td>\n",
       "      <td>0.091656</td>\n",
       "      <td>NaN</td>\n",
       "      <td>NaN</td>\n",
       "    </tr>\n",
       "    <tr>\n",
       "      <th>Price</th>\n",
       "      <td>0.389336</td>\n",
       "      <td>0.108831</td>\n",
       "      <td>-0.129934</td>\n",
       "      <td>0.164458</td>\n",
       "      <td>NaN</td>\n",
       "    </tr>\n",
       "  </tbody>\n",
       "</table>\n",
       "</div>"
      ],
      "text/plain": [
       "                    Year_of_production  Cylinders   Airbags       Tax  Price\n",
       "Year_of_production                 NaN        NaN       NaN       NaN    NaN\n",
       "Cylinders                    -0.107356        NaN       NaN       NaN    NaN\n",
       "Airbags                       0.052521   0.156152       NaN       NaN    NaN\n",
       "Tax                          -0.186570   0.598225  0.091656       NaN    NaN\n",
       "Price                         0.389336   0.108831 -0.129934  0.164458    NaN"
      ]
     },
     "metadata": {},
     "output_type": "display_data"
    },
    {
     "data": {
      "image/png": "[encoded data removed]",
      "text/plain": [
       "<Figure size 720x720 with 2 Axes>"
      ]
     },
     "metadata": {
      "needs_background": "light"
     },
     "output_type": "display_data"
    }
   ],
   "source": [
    "plt.figure(figsize=(10,10))\n",
    "\n",
    "corr_matrix = df.corr()\n",
    "mask = np.tril(corr_matrix, k = -1).astype(bool)\n",
    "display(corr_matrix.where(mask))\n",
    "\n",
    "mymap = sns.diverging_palette(240, 240, as_cmap = True)\n",
    "sns.heatmap(corr_matrix.where(mask), vmin = -1, vmax = 1,\n",
    "            annot=True, fmt='.2f', center=0, cmap=mymap);"
   ]
  },
  {
   "cell_type": "markdown",
   "id": "31246a39",
   "metadata": {},
   "source": [
    "### Тут идет обработка сета в одном блоке(собрал все манипуляции с файла 2 БЛОКА)"
   ]
  },
  {
   "cell_type": "code",
   "execution_count": 544,
   "id": "9b4de69b",
   "metadata": {},
   "outputs": [],
   "source": [
    "# Функции для обработки колонок с буквами, а также для их разделения\n",
    "def volume(s):\n",
    "    if len(s) <= 3:\n",
    "        a = s\n",
    "    else:\n",
    "        a = s[:3]\n",
    "    return a;\n",
    "\n",
    "def turbo(df):\n",
    "    b = []\n",
    "    for i in range(len(df)):\n",
    "        if df['Engine_volume'][i][4:] == 'Turbo':\n",
    "            b.append(1)    \n",
    "        else:\n",
    "            b.append(0)\n",
    "    return pd.Series(b);\n",
    "# Делаю новую колонку Турбо, чтобы выделять машины с турбированным двигателем\n",
    "# а также разделяю пробег от километров и делаю из этого целые числа\n",
    "df['Turbo'] = 0\n",
    "df['Turbo'] = turbo(df)\n",
    "df['Engine_volume'] = [volume(i) for i in df['Engine_volume']]\n",
    "df['Engine_volume'] = df['Engine_volume'].astype(float)\n",
    "df.Mileage = [int(''.join(filter(str.isdigit, i ))) for i in df.Mileage]\n",
    "\n",
    "# Ниже буду выбрасывать выброс, которые нашел по графикам\n",
    "ind = df[df['Engine_volume'] == 0].index\n",
    "# это некорректные данные, поэтому удаляем их\n",
    "df = df.drop(index=ind)\n",
    "inde = df[df['Engine_volume'] == 20].index\n",
    "df = df.drop(index=inde)\n",
    "df.Mileage.nlargest(15)\n",
    "# если загуглить, то можно увидеть, что можно прочитать\n",
    "# Книги рекордов Гиннеса цифра – 3,2 миллиона миль (5 149 900 км) – датируется маем 2013 года.\n",
    "# логично, что все пробеги ниже этого очень большого числа подходят под условия\n",
    "# убираем это большьшое число(удаляем по индексу)\n",
    "df = df.drop(index = 3169)\n",
    "# 0 пробег у авто 2010-х годов это очень странно, что на них вообще нет пробега\n",
    "ind = df[df['Mileage'] == 0].index\n",
    "df = df.drop(index=ind)\n",
    "#display(df[df.duplicated()])\n",
    "# есть дубликаты, поэтому убираем дубликаты\n",
    "#display(df[df.duplicated()].head(60))\n",
    "df_duplicates = df.drop('Price', axis = 1)\n",
    "dupl_rows = df_duplicates[df_duplicates.duplicated()].index\n",
    "df = df.drop(index=dupl_rows)\n",
    "df = df.drop_duplicates(keep = 'first')\n",
    "# удаляем модель, тк эта переменная нам больше не нужна, есть бренд\n",
    "df = df.drop(columns=['Model'])\n",
    "#display(df[df['Year_of_production'] < 1999].Price)\n",
    "# Машина за почти за 50000 1995 года будет довольно сильно колебать мое обучение, поэтому считаю выбросом \n",
    "# и выбрасываю ее\n",
    "df = df.drop(index=7146)\n",
    "df = df[df['Year_of_production'] > 1965]\n"
   ]
  },
  {
   "cell_type": "code",
   "execution_count": 545,
   "id": "526619ac",
   "metadata": {},
   "outputs": [],
   "source": [
    "cat_features = ['Brand','Type','Color']\n",
    "num_features = ['Year_of_production','Mileage','Tax']\n",
    "y = np.array(df.Price)\n",
    "X = df.drop(columns=['Price'])\n",
    "# записаны переменные по порядку\n",
    "columns = ['Brand','Type','Color','Fuel_type','Gear_box','Drive_wheels','Year_of_production','Mileage','Tax','Leather_interior','Doors','Engine_volume','Cylinders','Airbags','Turbo']"
   ]
  },
  {
   "cell_type": "code",
   "execution_count": 546,
   "id": "8381aea3",
   "metadata": {},
   "outputs": [
    {
     "data": {
      "text/html": [
       "<style>#sk-container-id-51 {color: black;background-color: white;}#sk-container-id-51 pre{padding: 0;}#sk-container-id-51 div.sk-toggleable {background-color: white;}#sk-container-id-51 label.sk-toggleable__label {cursor: pointer;display: block;width: 100%;margin-bottom: 0;padding: 0.3em;box-sizing: border-box;text-align: center;}#sk-container-id-51 label.sk-toggleable__label-arrow:before {content: \"▸\";float: left;margin-right: 0.25em;color: #696969;}#sk-container-id-51 label.sk-toggleable__label-arrow:hover:before {color: black;}#sk-container-id-51 div.sk-estimator:hover label.sk-toggleable__label-arrow:before {color: black;}#sk-container-id-51 div.sk-toggleable__content {max-height: 0;max-width: 0;overflow: hidden;text-align: left;background-color: #f0f8ff;}#sk-container-id-51 div.sk-toggleable__content pre {margin: 0.2em;color: black;border-radius: 0.25em;background-color: #f0f8ff;}#sk-container-id-51 input.sk-toggleable__control:checked~div.sk-toggleable__content {max-height: 200px;max-width: 100%;overflow: auto;}#sk-container-id-51 input.sk-toggleable__control:checked~label.sk-toggleable__label-arrow:before {content: \"▾\";}#sk-container-id-51 div.sk-estimator input.sk-toggleable__control:checked~label.sk-toggleable__label {background-color: #d4ebff;}#sk-container-id-51 div.sk-label input.sk-toggleable__control:checked~label.sk-toggleable__label {background-color: #d4ebff;}#sk-container-id-51 input.sk-hidden--visually {border: 0;clip: rect(1px 1px 1px 1px);clip: rect(1px, 1px, 1px, 1px);height: 1px;margin: -1px;overflow: hidden;padding: 0;position: absolute;width: 1px;}#sk-container-id-51 div.sk-estimator {font-family: monospace;background-color: #f0f8ff;border: 1px dotted black;border-radius: 0.25em;box-sizing: border-box;margin-bottom: 0.5em;}#sk-container-id-51 div.sk-estimator:hover {background-color: #d4ebff;}#sk-container-id-51 div.sk-parallel-item::after {content: \"\";width: 100%;border-bottom: 1px solid gray;flex-grow: 1;}#sk-container-id-51 div.sk-label:hover label.sk-toggleable__label {background-color: #d4ebff;}#sk-container-id-51 div.sk-serial::before {content: \"\";position: absolute;border-left: 1px solid gray;box-sizing: border-box;top: 0;bottom: 0;left: 50%;z-index: 0;}#sk-container-id-51 div.sk-serial {display: flex;flex-direction: column;align-items: center;background-color: white;padding-right: 0.2em;padding-left: 0.2em;position: relative;}#sk-container-id-51 div.sk-item {position: relative;z-index: 1;}#sk-container-id-51 div.sk-parallel {display: flex;align-items: stretch;justify-content: center;background-color: white;position: relative;}#sk-container-id-51 div.sk-item::before, #sk-container-id-51 div.sk-parallel-item::before {content: \"\";position: absolute;border-left: 1px solid gray;box-sizing: border-box;top: 0;bottom: 0;left: 50%;z-index: -1;}#sk-container-id-51 div.sk-parallel-item {display: flex;flex-direction: column;z-index: 1;position: relative;background-color: white;}#sk-container-id-51 div.sk-parallel-item:first-child::after {align-self: flex-end;width: 50%;}#sk-container-id-51 div.sk-parallel-item:last-child::after {align-self: flex-start;width: 50%;}#sk-container-id-51 div.sk-parallel-item:only-child::after {width: 0;}#sk-container-id-51 div.sk-dashed-wrapped {border: 1px dashed gray;margin: 0 0.4em 0.5em 0.4em;box-sizing: border-box;padding-bottom: 0.4em;background-color: white;}#sk-container-id-51 div.sk-label label {font-family: monospace;font-weight: bold;display: inline-block;line-height: 1.2em;}#sk-container-id-51 div.sk-label-container {text-align: center;}#sk-container-id-51 div.sk-container {/* jupyter's `normalize.less` sets `[hidden] { display: none; }` but bootstrap.min.css set `[hidden] { display: none !important; }` so we also need the `!important` here to be able to override the default hidden behavior on the sphinx rendered scikit-learn.org. See: https://github.com/scikit-learn/scikit-learn/issues/21755 */display: inline-block !important;position: relative;}#sk-container-id-51 div.sk-text-repr-fallback {display: none;}</style><div id=\"sk-container-id-51\" class=\"sk-top-container\"><div class=\"sk-text-repr-fallback\"><pre>ColumnTransformer(remainder=&#x27;passthrough&#x27;,\n",
       "                  transformers=[(&#x27;cat&#x27;, OrdinalEncoder(),\n",
       "                                 [&#x27;Brand&#x27;, &#x27;Type&#x27;, &#x27;Color&#x27;]),\n",
       "                                (&#x27;fuel_type&#x27;,\n",
       "                                 Pipeline(steps=[(&#x27;ce&#x27;,\n",
       "                                                  OrdinalEncoder(mapping=[{&#x27;col&#x27;: &#x27;Fuel_type&#x27;,\n",
       "                                                                           &#x27;mapping&#x27;: {&#x27;Diesel&#x27;: 3,\n",
       "                                                                                       &#x27;Hybrid&#x27;: 1,\n",
       "                                                                                       &#x27;LPG&#x27;: 0,\n",
       "                                                                                       &#x27;Petrol&#x27;: 2}}]))]),\n",
       "                                 [&#x27;Fuel_type&#x27;]),\n",
       "                                (&#x27;gear_box&#x27;,\n",
       "                                 Pipeline(steps=[(&#x27;ce&#x27;,\n",
       "                                                  OrdinalEncoder(mapping=[{&#x27;col&#x27;: &#x27;Gear_box&#x27;,\n",
       "                                                                           &#x27;mapping&#x27;: {&#x27;Auto...\n",
       "                                                                                       &#x27;Rear&#x27;: 1}}]))]),\n",
       "                                 [&#x27;Drive_wheels&#x27;]),\n",
       "                                (&#x27;num&#x27;, &#x27;passthrough&#x27;,\n",
       "                                 [&#x27;Year_of_production&#x27;, &#x27;Mileage&#x27;, &#x27;Tax&#x27;]),\n",
       "                                (&#x27;leather&#x27;,\n",
       "                                 Pipeline(steps=[(&#x27;ce&#x27;,\n",
       "                                                  OrdinalEncoder(mapping=[{&#x27;col&#x27;: &#x27;Leather_interior&#x27;,\n",
       "                                                                           &#x27;mapping&#x27;: {&#x27;No&#x27;: 0,\n",
       "                                                                                       &#x27;Yes&#x27;: 1}}]))]),\n",
       "                                 [&#x27;Leather_interior&#x27;]),\n",
       "                                (&#x27;doors&#x27;,\n",
       "                                 Pipeline(steps=[(&#x27;ce&#x27;,\n",
       "                                                  OrdinalEncoder(mapping=[{&#x27;col&#x27;: &#x27;Doors&#x27;,\n",
       "                                                                           &#x27;mapping&#x27;: {&#x27;02-Mar&#x27;: 0,\n",
       "                                                                                       &#x27;04-May&#x27;: 2,\n",
       "                                                                                       &#x27;&gt;5&#x27;: 1}}]))]),\n",
       "                                 [&#x27;Doors&#x27;])])</pre><b>In a Jupyter environment, please rerun this cell to show the HTML representation or trust the notebook. <br />On GitHub, the HTML representation is unable to render, please try loading this page with nbviewer.org.</b></div><div class=\"sk-container\" hidden><div class=\"sk-item sk-dashed-wrapped\"><div class=\"sk-label-container\"><div class=\"sk-label sk-toggleable\"><input class=\"sk-toggleable__control sk-hidden--visually\" id=\"sk-estimator-id-851\" type=\"checkbox\" ><label for=\"sk-estimator-id-851\" class=\"sk-toggleable__label sk-toggleable__label-arrow\">ColumnTransformer</label><div class=\"sk-toggleable__content\"><pre>ColumnTransformer(remainder=&#x27;passthrough&#x27;,\n",
       "                  transformers=[(&#x27;cat&#x27;, OrdinalEncoder(),\n",
       "                                 [&#x27;Brand&#x27;, &#x27;Type&#x27;, &#x27;Color&#x27;]),\n",
       "                                (&#x27;fuel_type&#x27;,\n",
       "                                 Pipeline(steps=[(&#x27;ce&#x27;,\n",
       "                                                  OrdinalEncoder(mapping=[{&#x27;col&#x27;: &#x27;Fuel_type&#x27;,\n",
       "                                                                           &#x27;mapping&#x27;: {&#x27;Diesel&#x27;: 3,\n",
       "                                                                                       &#x27;Hybrid&#x27;: 1,\n",
       "                                                                                       &#x27;LPG&#x27;: 0,\n",
       "                                                                                       &#x27;Petrol&#x27;: 2}}]))]),\n",
       "                                 [&#x27;Fuel_type&#x27;]),\n",
       "                                (&#x27;gear_box&#x27;,\n",
       "                                 Pipeline(steps=[(&#x27;ce&#x27;,\n",
       "                                                  OrdinalEncoder(mapping=[{&#x27;col&#x27;: &#x27;Gear_box&#x27;,\n",
       "                                                                           &#x27;mapping&#x27;: {&#x27;Auto...\n",
       "                                                                                       &#x27;Rear&#x27;: 1}}]))]),\n",
       "                                 [&#x27;Drive_wheels&#x27;]),\n",
       "                                (&#x27;num&#x27;, &#x27;passthrough&#x27;,\n",
       "                                 [&#x27;Year_of_production&#x27;, &#x27;Mileage&#x27;, &#x27;Tax&#x27;]),\n",
       "                                (&#x27;leather&#x27;,\n",
       "                                 Pipeline(steps=[(&#x27;ce&#x27;,\n",
       "                                                  OrdinalEncoder(mapping=[{&#x27;col&#x27;: &#x27;Leather_interior&#x27;,\n",
       "                                                                           &#x27;mapping&#x27;: {&#x27;No&#x27;: 0,\n",
       "                                                                                       &#x27;Yes&#x27;: 1}}]))]),\n",
       "                                 [&#x27;Leather_interior&#x27;]),\n",
       "                                (&#x27;doors&#x27;,\n",
       "                                 Pipeline(steps=[(&#x27;ce&#x27;,\n",
       "                                                  OrdinalEncoder(mapping=[{&#x27;col&#x27;: &#x27;Doors&#x27;,\n",
       "                                                                           &#x27;mapping&#x27;: {&#x27;02-Mar&#x27;: 0,\n",
       "                                                                                       &#x27;04-May&#x27;: 2,\n",
       "                                                                                       &#x27;&gt;5&#x27;: 1}}]))]),\n",
       "                                 [&#x27;Doors&#x27;])])</pre></div></div></div><div class=\"sk-parallel\"><div class=\"sk-parallel-item\"><div class=\"sk-item\"><div class=\"sk-label-container\"><div class=\"sk-label sk-toggleable\"><input class=\"sk-toggleable__control sk-hidden--visually\" id=\"sk-estimator-id-852\" type=\"checkbox\" ><label for=\"sk-estimator-id-852\" class=\"sk-toggleable__label sk-toggleable__label-arrow\">cat</label><div class=\"sk-toggleable__content\"><pre>[&#x27;Brand&#x27;, &#x27;Type&#x27;, &#x27;Color&#x27;]</pre></div></div></div><div class=\"sk-serial\"><div class=\"sk-item\"><div class=\"sk-estimator sk-toggleable\"><input class=\"sk-toggleable__control sk-hidden--visually\" id=\"sk-estimator-id-853\" type=\"checkbox\" ><label for=\"sk-estimator-id-853\" class=\"sk-toggleable__label sk-toggleable__label-arrow\">OrdinalEncoder</label><div class=\"sk-toggleable__content\"><pre>OrdinalEncoder()</pre></div></div></div></div></div></div><div class=\"sk-parallel-item\"><div class=\"sk-item\"><div class=\"sk-label-container\"><div class=\"sk-label sk-toggleable\"><input class=\"sk-toggleable__control sk-hidden--visually\" id=\"sk-estimator-id-854\" type=\"checkbox\" ><label for=\"sk-estimator-id-854\" class=\"sk-toggleable__label sk-toggleable__label-arrow\">fuel_type</label><div class=\"sk-toggleable__content\"><pre>[&#x27;Fuel_type&#x27;]</pre></div></div></div><div class=\"sk-serial\"><div class=\"sk-item\"><div class=\"sk-serial\"><div class=\"sk-item\"><div class=\"sk-estimator sk-toggleable\"><input class=\"sk-toggleable__control sk-hidden--visually\" id=\"sk-estimator-id-855\" type=\"checkbox\" ><label for=\"sk-estimator-id-855\" class=\"sk-toggleable__label sk-toggleable__label-arrow\">OrdinalEncoder</label><div class=\"sk-toggleable__content\"><pre>OrdinalEncoder(mapping=[{&#x27;col&#x27;: &#x27;Fuel_type&#x27;,\n",
       "                         &#x27;mapping&#x27;: {&#x27;Diesel&#x27;: 3, &#x27;Hybrid&#x27;: 1, &#x27;LPG&#x27;: 0,\n",
       "                                     &#x27;Petrol&#x27;: 2}}])</pre></div></div></div></div></div></div></div></div><div class=\"sk-parallel-item\"><div class=\"sk-item\"><div class=\"sk-label-container\"><div class=\"sk-label sk-toggleable\"><input class=\"sk-toggleable__control sk-hidden--visually\" id=\"sk-estimator-id-856\" type=\"checkbox\" ><label for=\"sk-estimator-id-856\" class=\"sk-toggleable__label sk-toggleable__label-arrow\">gear_box</label><div class=\"sk-toggleable__content\"><pre>[&#x27;Gear_box&#x27;]</pre></div></div></div><div class=\"sk-serial\"><div class=\"sk-item\"><div class=\"sk-serial\"><div class=\"sk-item\"><div class=\"sk-estimator sk-toggleable\"><input class=\"sk-toggleable__control sk-hidden--visually\" id=\"sk-estimator-id-857\" type=\"checkbox\" ><label for=\"sk-estimator-id-857\" class=\"sk-toggleable__label sk-toggleable__label-arrow\">OrdinalEncoder</label><div class=\"sk-toggleable__content\"><pre>OrdinalEncoder(mapping=[{&#x27;col&#x27;: &#x27;Gear_box&#x27;,\n",
       "                         &#x27;mapping&#x27;: {&#x27;Automatic&#x27;: 2, &#x27;Manual&#x27;: 0,\n",
       "                                     &#x27;Tiptronic&#x27;: 3, &#x27;Variator&#x27;: 1}}])</pre></div></div></div></div></div></div></div></div><div class=\"sk-parallel-item\"><div class=\"sk-item\"><div class=\"sk-label-container\"><div class=\"sk-label sk-toggleable\"><input class=\"sk-toggleable__control sk-hidden--visually\" id=\"sk-estimator-id-858\" type=\"checkbox\" ><label for=\"sk-estimator-id-858\" class=\"sk-toggleable__label sk-toggleable__label-arrow\">drive_wheels</label><div class=\"sk-toggleable__content\"><pre>[&#x27;Drive_wheels&#x27;]</pre></div></div></div><div class=\"sk-serial\"><div class=\"sk-item\"><div class=\"sk-serial\"><div class=\"sk-item\"><div class=\"sk-estimator sk-toggleable\"><input class=\"sk-toggleable__control sk-hidden--visually\" id=\"sk-estimator-id-859\" type=\"checkbox\" ><label for=\"sk-estimator-id-859\" class=\"sk-toggleable__label sk-toggleable__label-arrow\">OrdinalEncoder</label><div class=\"sk-toggleable__content\"><pre>OrdinalEncoder(mapping=[{&#x27;col&#x27;: &#x27;Drive_wheels&#x27;,\n",
       "                         &#x27;mapping&#x27;: {&#x27;4x4&#x27;: 2, &#x27;Front&#x27;: 0, &#x27;Rear&#x27;: 1}}])</pre></div></div></div></div></div></div></div></div><div class=\"sk-parallel-item\"><div class=\"sk-item\"><div class=\"sk-label-container\"><div class=\"sk-label sk-toggleable\"><input class=\"sk-toggleable__control sk-hidden--visually\" id=\"sk-estimator-id-860\" type=\"checkbox\" ><label for=\"sk-estimator-id-860\" class=\"sk-toggleable__label sk-toggleable__label-arrow\">num</label><div class=\"sk-toggleable__content\"><pre>[&#x27;Year_of_production&#x27;, &#x27;Mileage&#x27;, &#x27;Tax&#x27;]</pre></div></div></div><div class=\"sk-serial\"><div class=\"sk-item\"><div class=\"sk-estimator sk-toggleable\"><input class=\"sk-toggleable__control sk-hidden--visually\" id=\"sk-estimator-id-861\" type=\"checkbox\" ><label for=\"sk-estimator-id-861\" class=\"sk-toggleable__label sk-toggleable__label-arrow\">passthrough</label><div class=\"sk-toggleable__content\"><pre>passthrough</pre></div></div></div></div></div></div><div class=\"sk-parallel-item\"><div class=\"sk-item\"><div class=\"sk-label-container\"><div class=\"sk-label sk-toggleable\"><input class=\"sk-toggleable__control sk-hidden--visually\" id=\"sk-estimator-id-862\" type=\"checkbox\" ><label for=\"sk-estimator-id-862\" class=\"sk-toggleable__label sk-toggleable__label-arrow\">leather</label><div class=\"sk-toggleable__content\"><pre>[&#x27;Leather_interior&#x27;]</pre></div></div></div><div class=\"sk-serial\"><div class=\"sk-item\"><div class=\"sk-serial\"><div class=\"sk-item\"><div class=\"sk-estimator sk-toggleable\"><input class=\"sk-toggleable__control sk-hidden--visually\" id=\"sk-estimator-id-863\" type=\"checkbox\" ><label for=\"sk-estimator-id-863\" class=\"sk-toggleable__label sk-toggleable__label-arrow\">OrdinalEncoder</label><div class=\"sk-toggleable__content\"><pre>OrdinalEncoder(mapping=[{&#x27;col&#x27;: &#x27;Leather_interior&#x27;,\n",
       "                         &#x27;mapping&#x27;: {&#x27;No&#x27;: 0, &#x27;Yes&#x27;: 1}}])</pre></div></div></div></div></div></div></div></div><div class=\"sk-parallel-item\"><div class=\"sk-item\"><div class=\"sk-label-container\"><div class=\"sk-label sk-toggleable\"><input class=\"sk-toggleable__control sk-hidden--visually\" id=\"sk-estimator-id-864\" type=\"checkbox\" ><label for=\"sk-estimator-id-864\" class=\"sk-toggleable__label sk-toggleable__label-arrow\">doors</label><div class=\"sk-toggleable__content\"><pre>[&#x27;Doors&#x27;]</pre></div></div></div><div class=\"sk-serial\"><div class=\"sk-item\"><div class=\"sk-serial\"><div class=\"sk-item\"><div class=\"sk-estimator sk-toggleable\"><input class=\"sk-toggleable__control sk-hidden--visually\" id=\"sk-estimator-id-865\" type=\"checkbox\" ><label for=\"sk-estimator-id-865\" class=\"sk-toggleable__label sk-toggleable__label-arrow\">OrdinalEncoder</label><div class=\"sk-toggleable__content\"><pre>OrdinalEncoder(mapping=[{&#x27;col&#x27;: &#x27;Doors&#x27;,\n",
       "                         &#x27;mapping&#x27;: {&#x27;02-Mar&#x27;: 0, &#x27;04-May&#x27;: 2, &#x27;&gt;5&#x27;: 1}}])</pre></div></div></div></div></div></div></div></div><div class=\"sk-parallel-item\"><div class=\"sk-item\"><div class=\"sk-label-container\"><div class=\"sk-label sk-toggleable\"><input class=\"sk-toggleable__control sk-hidden--visually\" id=\"sk-estimator-id-866\" type=\"checkbox\" ><label for=\"sk-estimator-id-866\" class=\"sk-toggleable__label sk-toggleable__label-arrow\">remainder</label><div class=\"sk-toggleable__content\"><pre></pre></div></div></div><div class=\"sk-serial\"><div class=\"sk-item\"><div class=\"sk-estimator sk-toggleable\"><input class=\"sk-toggleable__control sk-hidden--visually\" id=\"sk-estimator-id-867\" type=\"checkbox\" ><label for=\"sk-estimator-id-867\" class=\"sk-toggleable__label sk-toggleable__label-arrow\">passthrough</label><div class=\"sk-toggleable__content\"><pre>passthrough</pre></div></div></div></div></div></div></div></div></div></div>"
      ],
      "text/plain": [
       "ColumnTransformer(remainder='passthrough',\n",
       "                  transformers=[('cat', OrdinalEncoder(),\n",
       "                                 ['Brand', 'Type', 'Color']),\n",
       "                                ('fuel_type',\n",
       "                                 Pipeline(steps=[('ce',\n",
       "                                                  OrdinalEncoder(mapping=[{'col': 'Fuel_type',\n",
       "                                                                           'mapping': {'Diesel': 3,\n",
       "                                                                                       'Hybrid': 1,\n",
       "                                                                                       'LPG': 0,\n",
       "                                                                                       'Petrol': 2}}]))]),\n",
       "                                 ['Fuel_type']),\n",
       "                                ('gear_box',\n",
       "                                 Pipeline(steps=[('ce',\n",
       "                                                  OrdinalEncoder(mapping=[{'col': 'Gear_box',\n",
       "                                                                           'mapping': {'Auto...\n",
       "                                                                                       'Rear': 1}}]))]),\n",
       "                                 ['Drive_wheels']),\n",
       "                                ('num', 'passthrough',\n",
       "                                 ['Year_of_production', 'Mileage', 'Tax']),\n",
       "                                ('leather',\n",
       "                                 Pipeline(steps=[('ce',\n",
       "                                                  OrdinalEncoder(mapping=[{'col': 'Leather_interior',\n",
       "                                                                           'mapping': {'No': 0,\n",
       "                                                                                       'Yes': 1}}]))]),\n",
       "                                 ['Leather_interior']),\n",
       "                                ('doors',\n",
       "                                 Pipeline(steps=[('ce',\n",
       "                                                  OrdinalEncoder(mapping=[{'col': 'Doors',\n",
       "                                                                           'mapping': {'02-Mar': 0,\n",
       "                                                                                       '04-May': 2,\n",
       "                                                                                       '>5': 1}}]))]),\n",
       "                                 ['Doors'])])"
      ]
     },
     "metadata": {},
     "output_type": "display_data"
    },
    {
     "data": {
      "text/html": [
       "<div>\n",
       "<style scoped>\n",
       "    .dataframe tbody tr th:only-of-type {\n",
       "        vertical-align: middle;\n",
       "    }\n",
       "\n",
       "    .dataframe tbody tr th {\n",
       "        vertical-align: top;\n",
       "    }\n",
       "\n",
       "    .dataframe thead th {\n",
       "        text-align: right;\n",
       "    }\n",
       "</style>\n",
       "<table border=\"1\" class=\"dataframe\">\n",
       "  <thead>\n",
       "    <tr style=\"text-align: right;\">\n",
       "      <th></th>\n",
       "      <th>Brand</th>\n",
       "      <th>Type</th>\n",
       "      <th>Color</th>\n",
       "      <th>Fuel_type</th>\n",
       "      <th>Gear_box</th>\n",
       "      <th>Drive_wheels</th>\n",
       "      <th>Year_of_production</th>\n",
       "      <th>Mileage</th>\n",
       "      <th>Tax</th>\n",
       "      <th>Leather_interior</th>\n",
       "      <th>Doors</th>\n",
       "      <th>Engine_volume</th>\n",
       "      <th>Cylinders</th>\n",
       "      <th>Airbags</th>\n",
       "      <th>Turbo</th>\n",
       "    </tr>\n",
       "  </thead>\n",
       "  <tbody>\n",
       "    <tr>\n",
       "      <th>0</th>\n",
       "      <td>31.0</td>\n",
       "      <td>2.0</td>\n",
       "      <td>7.0</td>\n",
       "      <td>3.0</td>\n",
       "      <td>0.0</td>\n",
       "      <td>0.0</td>\n",
       "      <td>2003.0</td>\n",
       "      <td>152000.0</td>\n",
       "      <td>1438.0</td>\n",
       "      <td>0.0</td>\n",
       "      <td>2.0</td>\n",
       "      <td>1.7</td>\n",
       "      <td>4.0</td>\n",
       "      <td>2.0</td>\n",
       "      <td>0.0</td>\n",
       "    </tr>\n",
       "    <tr>\n",
       "      <th>1</th>\n",
       "      <td>26.0</td>\n",
       "      <td>6.0</td>\n",
       "      <td>14.0</td>\n",
       "      <td>3.0</td>\n",
       "      <td>0.0</td>\n",
       "      <td>1.0</td>\n",
       "      <td>2008.0</td>\n",
       "      <td>198700.0</td>\n",
       "      <td>1195.0</td>\n",
       "      <td>0.0</td>\n",
       "      <td>0.0</td>\n",
       "      <td>2.2</td>\n",
       "      <td>4.0</td>\n",
       "      <td>6.0</td>\n",
       "      <td>1.0</td>\n",
       "    </tr>\n",
       "    <tr>\n",
       "      <th>2</th>\n",
       "      <td>39.0</td>\n",
       "      <td>4.0</td>\n",
       "      <td>7.0</td>\n",
       "      <td>2.0</td>\n",
       "      <td>2.0</td>\n",
       "      <td>0.0</td>\n",
       "      <td>2018.0</td>\n",
       "      <td>37214.0</td>\n",
       "      <td>1079.0</td>\n",
       "      <td>0.0</td>\n",
       "      <td>2.0</td>\n",
       "      <td>2.0</td>\n",
       "      <td>4.0</td>\n",
       "      <td>10.0</td>\n",
       "      <td>0.0</td>\n",
       "    </tr>\n",
       "    <tr>\n",
       "      <th>3</th>\n",
       "      <td>16.0</td>\n",
       "      <td>8.0</td>\n",
       "      <td>12.0</td>\n",
       "      <td>2.0</td>\n",
       "      <td>2.0</td>\n",
       "      <td>0.0</td>\n",
       "      <td>2012.0</td>\n",
       "      <td>137235.0</td>\n",
       "      <td>919.0</td>\n",
       "      <td>1.0</td>\n",
       "      <td>2.0</td>\n",
       "      <td>3.0</td>\n",
       "      <td>4.0</td>\n",
       "      <td>4.0</td>\n",
       "      <td>0.0</td>\n",
       "    </tr>\n",
       "    <tr>\n",
       "      <th>4</th>\n",
       "      <td>26.0</td>\n",
       "      <td>4.0</td>\n",
       "      <td>7.0</td>\n",
       "      <td>3.0</td>\n",
       "      <td>2.0</td>\n",
       "      <td>2.0</td>\n",
       "      <td>2015.0</td>\n",
       "      <td>79080.0</td>\n",
       "      <td>1273.0</td>\n",
       "      <td>1.0</td>\n",
       "      <td>2.0</td>\n",
       "      <td>3.5</td>\n",
       "      <td>6.0</td>\n",
       "      <td>12.0</td>\n",
       "      <td>0.0</td>\n",
       "    </tr>\n",
       "  </tbody>\n",
       "</table>\n",
       "</div>"
      ],
      "text/plain": [
       "   Brand  Type  Color  Fuel_type  Gear_box  Drive_wheels  Year_of_production  \\\n",
       "0   31.0   2.0    7.0        3.0       0.0           0.0              2003.0   \n",
       "1   26.0   6.0   14.0        3.0       0.0           1.0              2008.0   \n",
       "2   39.0   4.0    7.0        2.0       2.0           0.0              2018.0   \n",
       "3   16.0   8.0   12.0        2.0       2.0           0.0              2012.0   \n",
       "4   26.0   4.0    7.0        3.0       2.0           2.0              2015.0   \n",
       "\n",
       "    Mileage     Tax  Leather_interior  Doors  Engine_volume  Cylinders  \\\n",
       "0  152000.0  1438.0               0.0    2.0            1.7        4.0   \n",
       "1  198700.0  1195.0               0.0    0.0            2.2        4.0   \n",
       "2   37214.0  1079.0               0.0    2.0            2.0        4.0   \n",
       "3  137235.0   919.0               1.0    2.0            3.0        4.0   \n",
       "4   79080.0  1273.0               1.0    2.0            3.5        6.0   \n",
       "\n",
       "   Airbags  Turbo  \n",
       "0      2.0    0.0  \n",
       "1      6.0    1.0  \n",
       "2     10.0    0.0  \n",
       "3      4.0    0.0  \n",
       "4     12.0    0.0  "
      ]
     },
     "execution_count": 546,
     "metadata": {},
     "output_type": "execute_result"
    }
   ],
   "source": [
    "fuel_type_map = [{\n",
    "    'col':'Fuel_type', \n",
    "    'mapping':{'Diesel':3,'Petrol':2,'Hybrid':1,'LPG':0}\n",
    "    }]\n",
    "gear_box_map = [{\n",
    "    'col':'Gear_box',\n",
    "    'mapping':{'Tiptronic':3,'Automatic':2,'Variator':1,'Manual':0}\n",
    "    }]\n",
    "drive_wheels_map = [{\n",
    "    'col':'Drive_wheels',\n",
    "    'mapping':{'4x4':2,'Rear':1,'Front':0}\n",
    "    }]\n",
    "doors_map = [{\n",
    "    'col':'Doors',\n",
    "    'mapping':{'04-May':2,'>5':1,'02-Mar':0}\n",
    "    }]\n",
    "leather_interior_map = [{\n",
    "    'col':'Leather_interior',\n",
    "    'mapping':{'Yes':1,'No':0}\n",
    "    }]\n",
    "\n",
    "fuel_transformer = Pipeline(steps=[\n",
    "    ('ce',ce.OrdinalEncoder(mapping = fuel_type_map))])\n",
    "\n",
    "gear_box_transformer = Pipeline(steps=[\n",
    "    ('ce',ce.OrdinalEncoder(mapping = gear_box_map))])\n",
    "\n",
    "drive_wheels_transformer = Pipeline(steps=[\n",
    "    ('ce',ce.OrdinalEncoder(mapping = drive_wheels_map))])\n",
    "\n",
    "doors_transformer = Pipeline(steps=[\n",
    "    ('ce',ce.OrdinalEncoder(mapping = doors_map))])\n",
    "\n",
    "leather_transformer = Pipeline(steps=[\n",
    "    ('ce',ce.OrdinalEncoder(mapping = leather_interior_map))])\n",
    "\n",
    "   \n",
    "# для деревьев можно не стандартизировать данные в фичах \n",
    "CT = ColumnTransformer(transformers=[('cat',OrdinalEncoder(),cat_features),\n",
    "                                     ('fuel_type', fuel_transformer, ['Fuel_type']),\n",
    "                                     ('gear_box', gear_box_transformer, ['Gear_box']),\n",
    "                                     ('drive_wheels', drive_wheels_transformer, ['Drive_wheels']),\n",
    "                                     ('num','passthrough',num_features),\n",
    "                                     ('leather',leather_transformer,['Leather_interior']),\n",
    "                                     ('doors', doors_transformer, ['Doors'])],\n",
    "                                      remainder = 'passthrough')\n",
    "\n",
    "display(CT)\n",
    "\n",
    "X_CT = CT.fit_transform(X)#.toarray()\n",
    "X_CT = pd.DataFrame(X_CT,columns=columns)\n",
    "X_CT.head()"
   ]
  },
  {
   "cell_type": "code",
   "execution_count": 550,
   "id": "d3f5e632",
   "metadata": {},
   "outputs": [],
   "source": [
    "### Преобразование этих переменных делается в этом файле, поэтому в файле с моделью этого нет\n",
    "### в файле с аномалиями есть это уже есть\n",
    "### преобразование не стал делать отдельным файлом и где то сбоку, тк я сделал 2 проверки для разных преобразований \n",
    "### и выбрал лучший по показателям, поэтому сразу оставил один из них"
   ]
  },
  {
   "cell_type": "code",
   "execution_count": 463,
   "id": "d7fbbfdd",
   "metadata": {},
   "outputs": [
    {
     "data": {
      "image/png": "[encoded data removed]",
      "text/plain": [
       "<Figure size 720x720 with 16 Axes>"
      ]
     },
     "metadata": {
      "needs_background": "light"
     },
     "output_type": "display_data"
    }
   ],
   "source": [
    "X_CT.hist(figsize=(10, 10));\n",
    "# можно сделать преобразования пробега и налогов - перевести их к виду норм распределения\n",
    "# тк данные не отрицателньые и все хорошо, можно сначала накинуть минмакс и потом Бокса-Кокса"
   ]
  },
  {
   "cell_type": "code",
   "execution_count": 547,
   "id": "61cf6ded",
   "metadata": {},
   "outputs": [],
   "source": [
    "# возьму преобразование Бокса-Кокса для пробег и налога\n",
    "# преобраазуем переменные пробег и налог\n",
    "power = PowerTransformer(method='box-cox') \n",
    "minmax = MinMaxScaler()\n",
    "\n",
    "mile = power.fit_transform(minmax.fit_transform(pd.DataFrame(X_CT.Mileage)) + 1)\n",
    "tax = power.fit_transform(minmax.fit_transform(pd.DataFrame(X_CT.Tax)) + 1)\n",
    "\n",
    "\n",
    "X_CT.Mileage = mile\n",
    "X_CT.Tax = tax\n",
    "#преобразовываю данные и записываю в колонки моего Х после трансформера"
   ]
  },
  {
   "cell_type": "code",
   "execution_count": 454,
   "id": "326fea4c",
   "metadata": {},
   "outputs": [
    {
     "data": {
      "image/png": "[encoded data removed]",
      "text/plain": [
       "<Figure size 720x720 with 16 Axes>"
      ]
     },
     "metadata": {
      "needs_background": "light"
     },
     "output_type": "display_data"
    }
   ],
   "source": [
    "X_CT.hist(figsize=(10, 10));"
   ]
  },
  {
   "cell_type": "code",
   "execution_count": null,
   "id": "ebb3af12",
   "metadata": {},
   "outputs": [],
   "source": [
    "# почему выбрал Бокса-Кокса?\n",
    "# При фиксированном random_state преобразования Бокса-Кокса с минмакс скалером дает лучший результа для Х\n",
    "# Йео-Джонсона\n",
    "#R2 0.7283640383587571\n",
    "#MSE 57097448.2959105\n",
    "#MAPE 0.29684660109343364\n",
    "\n",
    "# Бокс-Кокс вместе с minmax scaler\n",
    "#R2 0.7284290139762317\n",
    "#MSE 57083790.52417497\n",
    "#MAPE 0.2967913123229752\n",
    "\n",
    "# Да, разница не большая, но заметная, поэтому и выбираю лучшее преобразование"
   ]
  },
  {
   "cell_type": "code",
   "execution_count": 548,
   "id": "1c3dd772",
   "metadata": {},
   "outputs": [],
   "source": [
    "X_train, X_test, y_train, y_test = train_test_split(X_CT, y, test_size= 0.25)"
   ]
  },
  {
   "cell_type": "code",
   "execution_count": 230,
   "id": "ea3d2a0d",
   "metadata": {},
   "outputs": [],
   "source": [
    "# беру отобранную модель в файле Models и буду у нее отбирать наиболее важные признаки\n",
    "# и незначимые выбрасывать и смотреть на результат"
   ]
  },
  {
   "cell_type": "code",
   "execution_count": 549,
   "id": "211799fa",
   "metadata": {},
   "outputs": [
    {
     "name": "stdout",
     "output_type": "stream",
     "text": [
      "R2 0.7283639155984106\n",
      "MSE 57097474.0999406\n",
      "MAPE 0.29684677263212866\n"
     ]
    }
   ],
   "source": [
    "estimator = RandomForestRegressor(n_estimators=3500)\n",
    "estimator.fit(X_train,y_train)\n",
    "y_pred = estimator.predict(X_test)\n",
    "print('R2',r2_score(y_test,y_pred))\n",
    "print('MSE', mean_squared_error(y_test,y_pred))\n",
    "print('MAPE',mean_absolute_percentage_error(y_test,y_pred))"
   ]
  },
  {
   "cell_type": "code",
   "execution_count": null,
   "id": "37179692",
   "metadata": {},
   "outputs": [],
   "source": [
    "# также далее посмотрим на значимость признаков наших моделей и отбросим самые неинформативные"
   ]
  },
  {
   "cell_type": "code",
   "execution_count": 429,
   "id": "a804895a",
   "metadata": {},
   "outputs": [
    {
     "data": {
      "image/png": "[encoded data removed]",
      "text/plain": [
       "<Figure size 1080x720 with 1 Axes>"
      ]
     },
     "metadata": {
      "needs_background": "light"
     },
     "output_type": "display_data"
    }
   ],
   "source": [
    "def plot_feature_importances(model):\n",
    "    n_features = X_train.shape[1]\n",
    "    plt.barh(range(n_features), model.feature_importances_, align='center') \n",
    "    plt.yticks(np.arange(n_features),pd.DataFrame(X_train).columns) \n",
    "    plt.xlabel(\"Важность признака\")\n",
    "    plt.ylabel(\"Признак\")\n",
    "plt.figure(figsize = (15, 10))\n",
    "plot_feature_importances(estimator)\n",
    "\n",
    "# можно отметить, что большую важность признаков для лесов нам дают признаки больше 0.6 где то\n",
    "# сразу можно отметить переменнуб Doors, которая дает нам около 0 значимости\n",
    "# посмотрим этотже график, только с помощью дополнительной графика ниже основного, который показывает значимость цветом"
   ]
  },
  {
   "cell_type": "code",
   "execution_count": 213,
   "id": "24290e40",
   "metadata": {},
   "outputs": [
    {
     "data": {
      "image/png": "[encoded data removed]",
      "text/plain": [
       "<Figure size 1080x576 with 1 Axes>"
      ]
     },
     "metadata": {
      "needs_background": "light"
     },
     "output_type": "display_data"
    },
    {
     "data": {
      "image/png": "[encoded data removed]",
      "text/plain": [
       "<Figure size 1152x144 with 1 Axes>"
      ]
     },
     "metadata": {
      "needs_background": "light"
     },
     "output_type": "display_data"
    }
   ],
   "source": [
    "# создаем необходимый граф для построения дополнительной оси со значимостью\n",
    "importance = estimator.feature_importances_\n",
    "feature_names = X_CT.columns # тут не важно X_CT или X_train, тк у них одинаковые переменные\n",
    "\n",
    "plt.figure(figsize=(15,8))\n",
    "plt.barh(width=importance, y = feature_names)\n",
    "plt.gca().invert_yaxis()\n",
    "plt.title(\"Важность признаков\")\n",
    "plt.show()\n",
    "\n",
    "mask = importance\n",
    "plt.matshow( mask.reshape(1,-1), cmap = 'Blues', aspect=0.3)\n",
    "plt.yticks([])\n",
    "plt.gca().xaxis.set_major_locator(plt.MultipleLocator(1))\n",
    "plt.xlabel(\"Индекс признака\");\n",
    "\n",
    "#как мы видим, здесь показаны те же самые фичи с усилением цвета для важности этого признака\n",
    "# как видно из графика - Doors имеют очень маленькую значимость, тк он по цвету идет полнстью белым\n",
    "# следовательно можно выбросить, тк переменная не несет конкретной информации\n",
    "# из малоинформативных можно выделить еще Leather_interior и Turbo"
   ]
  },
  {
   "cell_type": "code",
   "execution_count": 15,
   "id": "aed99c90",
   "metadata": {},
   "outputs": [
    {
     "data": {
      "text/html": [
       "<div>\n",
       "<style scoped>\n",
       "    .dataframe tbody tr th:only-of-type {\n",
       "        vertical-align: middle;\n",
       "    }\n",
       "\n",
       "    .dataframe tbody tr th {\n",
       "        vertical-align: top;\n",
       "    }\n",
       "\n",
       "    .dataframe thead th {\n",
       "        text-align: right;\n",
       "    }\n",
       "</style>\n",
       "<table border=\"1\" class=\"dataframe\">\n",
       "  <thead>\n",
       "    <tr style=\"text-align: right;\">\n",
       "      <th></th>\n",
       "      <th>mean</th>\n",
       "      <th>std</th>\n",
       "    </tr>\n",
       "  </thead>\n",
       "  <tbody>\n",
       "    <tr>\n",
       "      <th>Doors</th>\n",
       "      <td>0.000951</td>\n",
       "      <td>0.001030</td>\n",
       "    </tr>\n",
       "    <tr>\n",
       "      <th>Cylinders</th>\n",
       "      <td>0.009903</td>\n",
       "      <td>0.005954</td>\n",
       "    </tr>\n",
       "    <tr>\n",
       "      <th>Leather_interior</th>\n",
       "      <td>0.010160</td>\n",
       "      <td>0.004462</td>\n",
       "    </tr>\n",
       "  </tbody>\n",
       "</table>\n",
       "</div>"
      ],
      "text/plain": [
       "                      mean       std\n",
       "Doors             0.000951  0.001030\n",
       "Cylinders         0.009903  0.005954\n",
       "Leather_interior  0.010160  0.004462"
      ]
     },
     "metadata": {},
     "output_type": "display_data"
    },
    {
     "data": {
      "text/html": [
       "<div>\n",
       "<style scoped>\n",
       "    .dataframe tbody tr th:only-of-type {\n",
       "        vertical-align: middle;\n",
       "    }\n",
       "\n",
       "    .dataframe tbody tr th {\n",
       "        vertical-align: top;\n",
       "    }\n",
       "\n",
       "    .dataframe thead th {\n",
       "        text-align: right;\n",
       "    }\n",
       "</style>\n",
       "<table border=\"1\" class=\"dataframe\">\n",
       "  <thead>\n",
       "    <tr style=\"text-align: right;\">\n",
       "      <th></th>\n",
       "      <th>mean</th>\n",
       "      <th>std</th>\n",
       "    </tr>\n",
       "  </thead>\n",
       "  <tbody>\n",
       "    <tr>\n",
       "      <th>Airbags</th>\n",
       "      <td>0.082342</td>\n",
       "      <td>0.018167</td>\n",
       "    </tr>\n",
       "    <tr>\n",
       "      <th>Engine_volume</th>\n",
       "      <td>0.097104</td>\n",
       "      <td>0.015121</td>\n",
       "    </tr>\n",
       "    <tr>\n",
       "      <th>Fuel_type</th>\n",
       "      <td>0.099436</td>\n",
       "      <td>0.029032</td>\n",
       "    </tr>\n",
       "    <tr>\n",
       "      <th>Mileage</th>\n",
       "      <td>0.138112</td>\n",
       "      <td>0.017091</td>\n",
       "    </tr>\n",
       "    <tr>\n",
       "      <th>Year_of_production</th>\n",
       "      <td>0.265405</td>\n",
       "      <td>0.020223</td>\n",
       "    </tr>\n",
       "  </tbody>\n",
       "</table>\n",
       "</div>"
      ],
      "text/plain": [
       "                        mean       std\n",
       "Airbags             0.082342  0.018167\n",
       "Engine_volume       0.097104  0.015121\n",
       "Fuel_type           0.099436  0.029032\n",
       "Mileage             0.138112  0.017091\n",
       "Year_of_production  0.265405  0.020223"
      ]
     },
     "metadata": {},
     "output_type": "display_data"
    },
    {
     "data": {
      "image/png": "[encoded data removed]",
      "text/plain": [
       "<Figure size 1080x720 with 1 Axes>"
      ]
     },
     "metadata": {
      "needs_background": "light"
     },
     "output_type": "display_data"
    }
   ],
   "source": [
    "# теперь посмотрим на наши переменные и выведем 5 наиболее важных\n",
    "\n",
    "feature_names = X_CT.columns\n",
    "forest_importances = pd.DataFrame(estimator.feature_importances_, index=feature_names, columns =['mean'])\n",
    "forest_importances['std'] = np.std([tree.feature_importances_ for tree in estimator.estimators_], axis=0)\n",
    "\n",
    "sort_forest = forest_importances.sort_values(by='mean')\n",
    "\n",
    "\n",
    "fig, ax = plt.subplots(figsize=(15,10))\n",
    "col = sort_forest['mean']\n",
    "yerr = sort_forest['std']\n",
    "col.plot.bar(yerr=yerr, ax=ax)\n",
    "ax.set_title(\"Feature importances using MDI\")\n",
    "ax.set_ylabel(\"Mean decrease in impurity\")\n",
    "fig.tight_layout()\n",
    "\n",
    "# выведу 3 наиболее \"слабые\" фичи и 5 наиболее \"сильных\"\n",
    "display(sort_forest.head(3))\n",
    "display(sort_forest.tail(5))\n",
    "\n",
    "\n",
    "# как и видно было на графике, Doors,Leather_interior,Cylinders малозначимые\n",
    "# (можно будет посмотреть комбинации их дропа)\n",
    "# еще я бы отметил сюда Turbo, ну это посмотрим как раз таки позже\n",
    "\n",
    "# как и видно на графике выше, все 5 фич с наибольшей значимостью отражаются и здесь\n",
    "# проведем дальше анализ\n"
   ]
  },
  {
   "cell_type": "code",
   "execution_count": null,
   "id": "1c1e03ed",
   "metadata": {},
   "outputs": [],
   "source": [
    "# примерно мы увидели картину по нашим фичам и давайте пройдемся рекурсивными методами для отбора переменных"
   ]
  },
  {
   "cell_type": "code",
   "execution_count": 28,
   "id": "cd013030",
   "metadata": {},
   "outputs": [
    {
     "data": {
      "image/png": "[encoded data removed]",
      "text/plain": [
       "<Figure size 1152x144 with 1 Axes>"
      ]
     },
     "metadata": {
      "needs_background": "light"
     },
     "output_type": "display_data"
    }
   ],
   "source": [
    "rfe_select = RFE(RandomForestRegressor(n_estimators=3500, random_state=42),\n",
    "             n_features_to_select = 12)\n",
    "\n",
    "rfe_select.fit(X_train, y_train)\n",
    "# визуализируем отобранные признаки:\n",
    "mask = rfe_select.get_support()\n",
    "plt.matshow( mask.reshape(1,-1), cmap = 'gray_r', aspect=0.5)\n",
    "plt.yticks([])\n",
    "plt.gca().xaxis.set_minor_locator(plt.MultipleLocator(1))\n",
    "plt.xlabel(\"Индекс признака\");\n",
    "# при отборе 14 фич = выкидывает 10 фичу = Doors\n",
    "# можно пробежаться 2-3 раза до 12 фич и посмотреть какие будут обозначаться белым\n",
    "# при отборе 13 фич = выкидывает 10 и 12   = Doors and cylinders\n",
    "# при отборе 12 фич = выкидывает 10,12,9  = Doors and cylinders and Leather_interior\n",
    "# то есть можно сделать вывод о том, что они не будут сильно влиять на модель и создавают шум"
   ]
  },
  {
   "cell_type": "code",
   "execution_count": 33,
   "id": "a2600943",
   "metadata": {},
   "outputs": [],
   "source": [
    "from sklearn.feature_selection import SelectPercentile\n"
   ]
  },
  {
   "cell_type": "code",
   "execution_count": 71,
   "id": "436f8e08",
   "metadata": {},
   "outputs": [
    {
     "name": "stdout",
     "output_type": "stream",
     "text": [
      "форма массива X_train: (4423, 15)\n",
      "форма массива X_train_selected: (4423, 20)\n"
     ]
    }
   ],
   "source": [
    "# отбор переменных с помощью шума\n",
    "\n",
    "# задаем определенное стартовое значение для воспроизводимости результата\n",
    "rng = np.random.RandomState(42)\n",
    "noise = rng.normal(size=(len(X_CT),25))\n",
    "# добавляем к данным шумовые признаки\n",
    "# первые 14 признаков являются исходными, остальные являются шумовыми\n",
    "X_w_noise = np.hstack([X_CT, noise])\n",
    "\n",
    "X_train_nw, X_test_nw, y_train_nw, y_test_nw = train_test_split(X_w_noise, y, test_size=.25)\n",
    "select_pct = SelectPercentile(percentile=50)\n",
    "select_pct.fit(X_train_nw, y_train_nw)\n",
    "# преобразовываем обучающий набор\n",
    "X_train_selected = select_pct.transform(X_train_nw)\n",
    "\n",
    "print(\"форма массива X_train: {}\".format(X_train.shape))\n",
    "print(\"форма массива X_train_selected: {}\".format(X_train_selected.shape))"
   ]
  },
  {
   "cell_type": "code",
   "execution_count": 73,
   "id": "6aba7e0f",
   "metadata": {},
   "outputs": [
    {
     "data": {
      "image/png": "[encoded data removed]",
      "text/plain": [
       "<Figure size 1152x144 with 1 Axes>"
      ]
     },
     "metadata": {
      "needs_background": "light"
     },
     "output_type": "display_data"
    },
    {
     "data": {
      "image/png": "[encoded data removed]",
      "text/plain": [
       "<Figure size 1152x144 with 1 Axes>"
      ]
     },
     "metadata": {
      "needs_background": "light"
     },
     "output_type": "display_data"
    }
   ],
   "source": [
    "mask = select_pct.get_support()\n",
    "plt.matshow( mask.reshape(1,-1), cmap = 'gray_r', aspect=0.5)\n",
    "plt.yticks([])\n",
    "plt.xlabel(\"Индекс признака\");\n",
    "\n",
    "mask = select_pct.get_support()[:15]\n",
    "plt.matshow( mask.reshape(1,-1), cmap = 'gray_r', aspect=0.2)\n",
    "plt.yticks([])\n",
    "plt.xlabel(\"Индекс признака\");\n",
    "\n",
    "# отбор признаков с шумом нам выдает 4-9-10-14 - (Doors and Gear_Box and Leather_interior and Turbo)\n",
    "# это тоже надо будет приметить и проверить"
   ]
  },
  {
   "cell_type": "code",
   "execution_count": null,
   "id": "caca695f",
   "metadata": {},
   "outputs": [],
   "source": [
    "## Проверка удаления признаков из нашего фрейма для выбранной модели"
   ]
  },
  {
   "cell_type": "code",
   "execution_count": 214,
   "id": "db21cf21",
   "metadata": {},
   "outputs": [
    {
     "data": {
      "text/html": [
       "<div>\n",
       "<style scoped>\n",
       "    .dataframe tbody tr th:only-of-type {\n",
       "        vertical-align: middle;\n",
       "    }\n",
       "\n",
       "    .dataframe tbody tr th {\n",
       "        vertical-align: top;\n",
       "    }\n",
       "\n",
       "    .dataframe thead th {\n",
       "        text-align: right;\n",
       "    }\n",
       "</style>\n",
       "<table border=\"1\" class=\"dataframe\">\n",
       "  <thead>\n",
       "    <tr style=\"text-align: right;\">\n",
       "      <th></th>\n",
       "      <th>Brand</th>\n",
       "      <th>Type</th>\n",
       "      <th>Color</th>\n",
       "      <th>Fuel_type</th>\n",
       "      <th>Gear_box</th>\n",
       "      <th>Drive_wheels</th>\n",
       "      <th>Year_of_production</th>\n",
       "      <th>Mileage</th>\n",
       "      <th>Tax</th>\n",
       "      <th>Leather_interior</th>\n",
       "      <th>Doors</th>\n",
       "      <th>Engine_volume</th>\n",
       "      <th>Cylinders</th>\n",
       "      <th>Airbags</th>\n",
       "      <th>Turbo</th>\n",
       "    </tr>\n",
       "  </thead>\n",
       "  <tbody>\n",
       "    <tr>\n",
       "      <th>0</th>\n",
       "      <td>31.0</td>\n",
       "      <td>2.0</td>\n",
       "      <td>7.0</td>\n",
       "      <td>3.0</td>\n",
       "      <td>0.0</td>\n",
       "      <td>0.0</td>\n",
       "      <td>-2.50</td>\n",
       "      <td>0.491120</td>\n",
       "      <td>2.289116</td>\n",
       "      <td>0.0</td>\n",
       "      <td>2.0</td>\n",
       "      <td>1.7</td>\n",
       "      <td>4.0</td>\n",
       "      <td>2.0</td>\n",
       "      <td>0.0</td>\n",
       "    </tr>\n",
       "    <tr>\n",
       "      <th>1</th>\n",
       "      <td>26.0</td>\n",
       "      <td>6.0</td>\n",
       "      <td>14.0</td>\n",
       "      <td>3.0</td>\n",
       "      <td>0.0</td>\n",
       "      <td>1.0</td>\n",
       "      <td>-1.25</td>\n",
       "      <td>1.000794</td>\n",
       "      <td>1.462585</td>\n",
       "      <td>0.0</td>\n",
       "      <td>0.0</td>\n",
       "      <td>2.2</td>\n",
       "      <td>4.0</td>\n",
       "      <td>6.0</td>\n",
       "      <td>1.0</td>\n",
       "    </tr>\n",
       "    <tr>\n",
       "      <th>2</th>\n",
       "      <td>39.0</td>\n",
       "      <td>4.0</td>\n",
       "      <td>7.0</td>\n",
       "      <td>2.0</td>\n",
       "      <td>2.0</td>\n",
       "      <td>0.0</td>\n",
       "      <td>1.25</td>\n",
       "      <td>-0.761629</td>\n",
       "      <td>1.068027</td>\n",
       "      <td>0.0</td>\n",
       "      <td>2.0</td>\n",
       "      <td>2.0</td>\n",
       "      <td>4.0</td>\n",
       "      <td>10.0</td>\n",
       "      <td>0.0</td>\n",
       "    </tr>\n",
       "    <tr>\n",
       "      <th>3</th>\n",
       "      <td>16.0</td>\n",
       "      <td>8.0</td>\n",
       "      <td>12.0</td>\n",
       "      <td>2.0</td>\n",
       "      <td>2.0</td>\n",
       "      <td>0.0</td>\n",
       "      <td>-0.25</td>\n",
       "      <td>0.329978</td>\n",
       "      <td>0.523810</td>\n",
       "      <td>1.0</td>\n",
       "      <td>2.0</td>\n",
       "      <td>3.0</td>\n",
       "      <td>4.0</td>\n",
       "      <td>4.0</td>\n",
       "      <td>0.0</td>\n",
       "    </tr>\n",
       "    <tr>\n",
       "      <th>4</th>\n",
       "      <td>26.0</td>\n",
       "      <td>4.0</td>\n",
       "      <td>7.0</td>\n",
       "      <td>3.0</td>\n",
       "      <td>2.0</td>\n",
       "      <td>2.0</td>\n",
       "      <td>0.50</td>\n",
       "      <td>-0.304713</td>\n",
       "      <td>1.727891</td>\n",
       "      <td>1.0</td>\n",
       "      <td>2.0</td>\n",
       "      <td>3.5</td>\n",
       "      <td>6.0</td>\n",
       "      <td>12.0</td>\n",
       "      <td>0.0</td>\n",
       "    </tr>\n",
       "  </tbody>\n",
       "</table>\n",
       "</div>"
      ],
      "text/plain": [
       "   Brand  Type  Color  Fuel_type  Gear_box  Drive_wheels  Year_of_production  \\\n",
       "0   31.0   2.0    7.0        3.0       0.0           0.0               -2.50   \n",
       "1   26.0   6.0   14.0        3.0       0.0           1.0               -1.25   \n",
       "2   39.0   4.0    7.0        2.0       2.0           0.0                1.25   \n",
       "3   16.0   8.0   12.0        2.0       2.0           0.0               -0.25   \n",
       "4   26.0   4.0    7.0        3.0       2.0           2.0                0.50   \n",
       "\n",
       "    Mileage       Tax  Leather_interior  Doors  Engine_volume  Cylinders  \\\n",
       "0  0.491120  2.289116               0.0    2.0            1.7        4.0   \n",
       "1  1.000794  1.462585               0.0    0.0            2.2        4.0   \n",
       "2 -0.761629  1.068027               0.0    2.0            2.0        4.0   \n",
       "3  0.329978  0.523810               1.0    2.0            3.0        4.0   \n",
       "4 -0.304713  1.727891               1.0    2.0            3.5        6.0   \n",
       "\n",
       "   Airbags  Turbo  \n",
       "0      2.0    0.0  \n",
       "1      6.0    1.0  \n",
       "2     10.0    0.0  \n",
       "3      4.0    0.0  \n",
       "4     12.0    0.0  "
      ]
     },
     "execution_count": 214,
     "metadata": {},
     "output_type": "execute_result"
    }
   ],
   "source": [
    "X_CT = pd.DataFrame(X_CT,columns=columns)\n",
    "X_CT.head()"
   ]
  },
  {
   "cell_type": "code",
   "execution_count": 215,
   "id": "b8e2ff95",
   "metadata": {},
   "outputs": [],
   "source": [
    "X_train, X_test, y_train, y_test = train_test_split(X_CT, y, test_size= 0.25)"
   ]
  },
  {
   "cell_type": "code",
   "execution_count": null,
   "id": "f9167601",
   "metadata": {},
   "outputs": [],
   "source": [
    "# переменные, которые выбрал с помощью значимости для модели(малоинформативные)\n",
    "# 'Doors','Cylinders','Turbo','Leather_interior','Gear_Box'\n",
    "# но еще посмотрим на корреляц матрицу и увидим что с чем сильно коррелирует"
   ]
  },
  {
   "cell_type": "code",
   "execution_count": 216,
   "id": "f856334b",
   "metadata": {},
   "outputs": [
    {
     "data": {
      "image/png": "[encoded data removed]",
      "text/plain": [
       "<Figure size 720x720 with 2 Axes>"
      ]
     },
     "metadata": {
      "needs_background": "light"
     },
     "output_type": "display_data"
    }
   ],
   "source": [
    "plt.figure(figsize=(10,10))\n",
    "\n",
    "corr_matrix = X_CT.corr()\n",
    "mask = np.tril(corr_matrix, k = -1).astype(bool)\n",
    "#display(corr_matrix.where(mask))\n",
    "\n",
    "mymap = sns.diverging_palette(240, 240, as_cmap = True)\n",
    "\n",
    "sns.heatmap(corr_matrix.where(mask), vmin = -1, vmax = 1,\n",
    "            annot=True, fmt='.2f', center=0, cmap=mymap);"
   ]
  },
  {
   "cell_type": "markdown",
   "id": "f5118a04",
   "metadata": {},
   "source": [
    "### Модель без удаления переменных"
   ]
  },
  {
   "cell_type": "code",
   "execution_count": 290,
   "id": "b73abe40",
   "metadata": {},
   "outputs": [],
   "source": [
    "X_CT = pd.DataFrame(X_CT,columns=columns)"
   ]
  },
  {
   "cell_type": "code",
   "execution_count": 476,
   "id": "146e730f",
   "metadata": {},
   "outputs": [],
   "source": [
    "X_train, X_test, y_train, y_test = train_test_split(X_CT, y, test_size= 0.25)"
   ]
  },
  {
   "cell_type": "code",
   "execution_count": 269,
   "id": "bf766f51",
   "metadata": {},
   "outputs": [
    {
     "name": "stdout",
     "output_type": "stream",
     "text": [
      "R2 0.7055880950900757\n",
      "MSE 61872392.09548647\n",
      "MAPE 0.3231177217727365\n"
     ]
    }
   ],
   "source": [
    "# Модель без удаления переменных\n",
    "estimator = RandomForestRegressor(n_estimators=3500)\n",
    "estimator.fit(X_train,y_train)\n",
    "y_pred = estimator.predict(X_test)\n",
    "print('R2',r2_score(y_test,y_pred))\n",
    "print('MSE', mean_squared_error(y_test,y_pred))\n",
    "print('MAPE',mean_absolute_percentage_error(y_test,y_pred))"
   ]
  },
  {
   "cell_type": "markdown",
   "id": "3f1d85ef",
   "metadata": {},
   "source": [
    "### Модель с удалением Doors, Cylinders, Leather_interior"
   ]
  },
  {
   "cell_type": "code",
   "execution_count": 488,
   "id": "9c168944",
   "metadata": {},
   "outputs": [],
   "source": [
    "X_CT = pd.DataFrame(X_CT,columns=columns)\n",
    "X_1 = X_CT.drop(columns=['Doors','Cylinders','Leather_interior'])"
   ]
  },
  {
   "cell_type": "code",
   "execution_count": 491,
   "id": "1a426ca0",
   "metadata": {},
   "outputs": [],
   "source": [
    "X_train, X_test, y_train, y_test = train_test_split(X_1, y, test_size= 0.25)"
   ]
  },
  {
   "cell_type": "code",
   "execution_count": 492,
   "id": "3289f527",
   "metadata": {},
   "outputs": [
    {
     "name": "stdout",
     "output_type": "stream",
     "text": [
      "R2 0.7379190363604327\n",
      "MSE 56876006.079035334\n",
      "MAPE 0.34287217675443216\n"
     ]
    }
   ],
   "source": [
    "# Модель с удалением 'Doors','Cylinders','Leather_interior'\n",
    "estimator = RandomForestRegressor(n_estimators=3500)\n",
    "estimator.fit(X_train,y_train)\n",
    "y_pred = estimator.predict(X_test)\n",
    "print('R2',r2_score(y_test,y_pred))\n",
    "print('MSE', mean_squared_error(y_test,y_pred))\n",
    "print('MAPE',mean_absolute_percentage_error(y_test,y_pred))\n",
    "# если брать модели с удалением, то эта будет самая оптимальная поскольку везде слишком сильно начинает расти ошибка\n",
    "# убираю самые неинорфмативные столбцы, которые в данном примере"
   ]
  },
  {
   "cell_type": "markdown",
   "id": "3f73a3c2",
   "metadata": {},
   "source": [
    "### Модель с удалением Doors, Gear_Box, Leather_interior"
   ]
  },
  {
   "cell_type": "code",
   "execution_count": 85,
   "id": "1ec098b5",
   "metadata": {},
   "outputs": [],
   "source": [
    "X_CT = pd.DataFrame(X_CT,columns=columns)\n",
    "X_2 = X_CT.drop(columns=['Doors','Gear_box','Leather_interior'])"
   ]
  },
  {
   "cell_type": "code",
   "execution_count": 87,
   "id": "8eeca84f",
   "metadata": {},
   "outputs": [],
   "source": [
    "X_train, X_test, y_train, y_test = train_test_split(X_2, y, test_size= 0.25)"
   ]
  },
  {
   "cell_type": "code",
   "execution_count": 88,
   "id": "1a3c39b6",
   "metadata": {},
   "outputs": [
    {
     "name": "stdout",
     "output_type": "stream",
     "text": [
      "R2 0.700420809209696\n",
      "MSE 64951717.112929106\n",
      "MAPE 0.366269642207187\n"
     ]
    }
   ],
   "source": [
    "# Модель без удаления переменных 'Doors','Gear_box','Leather_interior'\n",
    "estimator = RandomForestRegressor(n_estimators=3500)\n",
    "estimator.fit(X_train,y_train)\n",
    "y_pred = estimator.predict(X_test)\n",
    "print('R2',r2_score(y_test,y_pred))\n",
    "print('MSE', mean_squared_error(y_test,y_pred))\n",
    "print('MAPE',mean_absolute_percentage_error(y_test,y_pred))\n",
    "# Gear_box на некоторыех теста значимости оказался белым цветом, но по графикам важности он вносит весомый вклад\n",
    "# поэтому его нельзя выбрасывать\n",
    "# поэтому эту модель с удалением этих переменных можно не рассматривать"
   ]
  },
  {
   "cell_type": "markdown",
   "id": "a22b4e2c",
   "metadata": {},
   "source": [
    "### Модель с удалением Doors, Turbo , Leather_interior "
   ]
  },
  {
   "cell_type": "code",
   "execution_count": 94,
   "id": "c9f1db92",
   "metadata": {},
   "outputs": [],
   "source": [
    "X_CT = pd.DataFrame(X_CT,columns=columns)\n",
    "X_3 = X_CT.drop(columns=['Doors','Turbo','Leather_interior'])"
   ]
  },
  {
   "cell_type": "code",
   "execution_count": 95,
   "id": "4a1e6486",
   "metadata": {},
   "outputs": [],
   "source": [
    "X_train, X_test, y_train, y_test = train_test_split(X_3, y, test_size= 0.25)"
   ]
  },
  {
   "cell_type": "code",
   "execution_count": 96,
   "id": "a0db766a",
   "metadata": {},
   "outputs": [
    {
     "name": "stdout",
     "output_type": "stream",
     "text": [
      "R2 0.6773609979612003\n",
      "MSE 65481487.788657434\n",
      "MAPE 0.3424080377745553\n"
     ]
    }
   ],
   "source": [
    "# Модель без удаления переменных 'Doors','Turbo','Leather_interior'\n",
    "estimator = RandomForestRegressor(n_estimators=3500)\n",
    "estimator.fit(X_train,y_train)\n",
    "y_pred = estimator.predict(X_test)\n",
    "print('R2',r2_score(y_test,y_pred))\n",
    "print('MSE', mean_squared_error(y_test,y_pred))\n",
    "print('MAPE',mean_absolute_percentage_error(y_test,y_pred))"
   ]
  },
  {
   "cell_type": "markdown",
   "id": "e633e4eb",
   "metadata": {},
   "source": [
    "### Модель с удалением Doors, Turbo , Leather_interior,Cylinders"
   ]
  },
  {
   "cell_type": "code",
   "execution_count": 142,
   "id": "1c04bdd7",
   "metadata": {},
   "outputs": [],
   "source": [
    "X_CT = pd.DataFrame(X_CT,columns=columns)\n",
    "X_4 = X_CT.drop(columns=['Doors','Turbo','Leather_interior','Cylinders'])"
   ]
  },
  {
   "cell_type": "code",
   "execution_count": 143,
   "id": "f971eb80",
   "metadata": {},
   "outputs": [],
   "source": [
    "X_train, X_test, y_train, y_test = train_test_split(X_4, y, test_size= 0.25)"
   ]
  },
  {
   "cell_type": "code",
   "execution_count": 144,
   "id": "37ad8efc",
   "metadata": {},
   "outputs": [
    {
     "name": "stdout",
     "output_type": "stream",
     "text": [
      "R2 0.706024610596664\n",
      "MSE 60391169.863469794\n",
      "MAPE 0.3213678168748459\n"
     ]
    }
   ],
   "source": [
    "# Модель без удаления переменных 'Doors','Turbo','Leather_interior','Cylinders'\n",
    "estimator = RandomForestRegressor(n_estimators=3500)\n",
    "estimator.fit(X_train,y_train)\n",
    "y_pred = estimator.predict(X_test)\n",
    "print('R2',r2_score(y_test,y_pred))\n",
    "print('MSE', mean_squared_error(y_test,y_pred))\n",
    "print('MAPE',mean_absolute_percentage_error(y_test,y_pred))"
   ]
  },
  {
   "cell_type": "markdown",
   "id": "57f4ffd5",
   "metadata": {},
   "source": [
    "### После проведенного анализа c фичами, делаю вывод, что буду убирать следующие переменные ('Doors','Cylinders','Leather_interior'), тк у модели меньшая ошибка и большая обьясняемость нашей задачи при выбросе этих переменных => в фрейм буду использовать все остальные переменные, кроме этих"
   ]
  }
 ],
 "metadata": {
  "kernelspec": {
   "display_name": "Python 3 (ipykernel)",
   "language": "python",
   "name": "python3"
  },
  "language_info": {
   "codemirror_mode": {
    "name": "ipython",
    "version": 3
   },
   "file_extension": ".py",
   "mimetype": "text/x-python",
   "name": "python",
   "nbconvert_exporter": "python",
   "pygments_lexer": "ipython3",
   "version": "3.9.7"
  }
 },
 "nbformat": 4,
 "nbformat_minor": 5
}
